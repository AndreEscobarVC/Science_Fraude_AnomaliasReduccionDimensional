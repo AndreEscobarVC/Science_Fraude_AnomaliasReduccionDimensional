{
 "cells": [
  {
   "cell_type": "code",
   "execution_count": 1,
   "metadata": {},
   "outputs": [],
   "source": [
    "import os\n",
    "import time \n",
    "import numpy as np\n",
    "import pandas as pd\n",
    "import compress_pickle as cpickle\n",
    "\n",
    "import warnings\n",
    "warnings.filterwarnings('ignore')\n",
    "\n",
    "from scripts import utils"
   ]
  },
  {
   "cell_type": "markdown",
   "metadata": {},
   "source": [
    "### SCRIPT: CARGAR DATOS SQL"
   ]
  },
  {
   "cell_type": "code",
   "execution_count": 3,
   "metadata": {},
   "outputs": [
    {
     "name": "stdout",
     "output_type": "stream",
     "text": [
      "\n",
      "Setting up folders ...\n",
      "  ... done! (models/test/saludmental/queries/, models/test/saludmental/input/data/)\n",
      "\n",
      "Reading query ...\n",
      "   ... done! (models/test/saludmental/queries/query_20240723_1700.sql)\n",
      "\n",
      "Connecting session ...\n",
      "   ... done!\n",
      "\n",
      "Executing query ...\n",
      "   ... done! (5.88 min)\n",
      "\n",
      "Saving dataframe ...\n",
      "   ... done! (0.01 min)\n"
     ]
    }
   ],
   "source": [
    "from scripts import sqlscript\n",
    "\n",
    "sqlscript.run(action='input', model='test', dataset='saludmental', search_text='query', server='des02', verbose=True)"
   ]
  }
 ],
 "metadata": {
  "kernelspec": {
   "display_name": "vc",
   "language": "python",
   "name": "python3"
  },
  "language_info": {
   "codemirror_mode": {
    "name": "ipython",
    "version": 3
   },
   "file_extension": ".py",
   "mimetype": "text/x-python",
   "name": "python",
   "nbconvert_exporter": "python",
   "pygments_lexer": "ipython3",
   "version": "3.11.9"
  }
 },
 "nbformat": 4,
 "nbformat_minor": 2
}
