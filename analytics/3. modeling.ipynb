{
 "cells": [
  {
   "cell_type": "code",
   "execution_count": 154,
   "metadata": {},
   "outputs": [],
   "source": [
    "import os\n",
    "import json\n",
    "import numpy as np\n",
    "import pandas as pd\n",
    "import compress_pickle as cpickle\n",
    "\n",
    "from scripts import utils\n",
    "\n",
    "from sklearn.preprocessing import StandardScaler\n",
    "from sklearn.decomposition import PCA\n",
    "\n",
    "import plotly.express as px"
   ]
  },
  {
   "cell_type": "code",
   "execution_count": 140,
   "metadata": {},
   "outputs": [],
   "source": [
    "model = 'test'\n",
    "dataset = 'saludmental'\n",
    "\n",
    "basefolder = f'models/{model}/{dataset}/'\n",
    "\n",
    "infolder = basefolder + 'input/data/'\n",
    "configfolder = basefolder + 'config/'"
   ]
  },
  {
   "cell_type": "markdown",
   "metadata": {},
   "source": [
    "CARGAR DATOS PREPARADOS"
   ]
  },
  {
   "cell_type": "code",
   "execution_count": 141,
   "metadata": {},
   "outputs": [],
   "source": [
    "filename1 = utils.GET_LAST_FILE(infolder, 'prepared')\n",
    "data = cpickle.load(filename1)\n",
    "\n",
    "# cargo dataframes de trabajo\n",
    "dataframe = data['dataset']\n",
    "data['dataset'] = None\n",
    "\n",
    "# cargo dataframe de informacion\n",
    "infoframe = data['information']\n",
    "data['information'] = None\n",
    "\n",
    "# cargo diccionario de variables\n",
    "variables = data['variables']\n",
    "data['variables'] = None"
   ]
  },
  {
   "cell_type": "markdown",
   "metadata": {},
   "source": [
    "ESTANDARIZACION DE DATOS"
   ]
  },
  {
   "cell_type": "code",
   "execution_count": 142,
   "metadata": {},
   "outputs": [],
   "source": [
    "zscaler = StandardScaler()\n",
    "dfz = pd.DataFrame(zscaler.fit_transform(dataframe), columns=dataframe.columns, index=dataframe.index)"
   ]
  },
  {
   "cell_type": "markdown",
   "metadata": {},
   "source": [
    "EVALUACION DE COMPONENTES"
   ]
  },
  {
   "cell_type": "code",
   "execution_count": 143,
   "metadata": {},
   "outputs": [],
   "source": [
    "def optimize_components_expvar(dataframe, threshold=0.95, seed=16):\n",
    "    \n",
    "    pca = PCA(n_components=dataframe.shape[1]-1, whiten=True, random_state=seed)\n",
    "    pca.fit(dataframe)\n",
    "\n",
    "    test = pd.Series(np.round(np.cumsum(pca.explained_variance_ratio_), 4), index=range(1, dataframe.shape[1])).to_frame().reset_index()\n",
    "    test.columns = ['comps', 'exp']\n",
    "\n",
    "    check = test.loc[test.exp >= threshold, :]\n",
    "    \n",
    "    comps = int(check.iloc[0, 0])\n",
    "    expvar = check.iloc[0, 1]\n",
    "    redu = np.round(check.iloc[0, 0] / (dataframe.shape[1]), 4)\n",
    "\n",
    "    return comps, expvar, redu"
   ]
  },
  {
   "cell_type": "code",
   "execution_count": 144,
   "metadata": {},
   "outputs": [
    {
     "name": "stdout",
     "output_type": "stream",
     "text": [
      "Buscando componentes optimos ...\n",
      "     ... componentes encontrados: 9 (0.9691 varianza explicada) (0.5625 dimension reducida)\n"
     ]
    }
   ],
   "source": [
    "print('Buscando componentes optimos ...')\n",
    "componentes_optimos, explained_variance, reduccion_dimensional = optimize_components_expvar(dataframe=dfz, threshold=0.95, seed=16)\n",
    "print(f'     ... componentes encontrados: {componentes_optimos} ({explained_variance} varianza explicada) ({reduccion_dimensional} dimension reducida)')"
   ]
  },
  {
   "cell_type": "markdown",
   "metadata": {},
   "source": [
    "ENTRENAMIENTO MODELO PCA"
   ]
  },
  {
   "cell_type": "code",
   "execution_count": 145,
   "metadata": {},
   "outputs": [],
   "source": [
    "pca = PCA(n_components=componentes_optimos, whiten=True, random_state=16)\n",
    "pca.fit(dfz)\n",
    "\n",
    "rd = pd.DataFrame(pca.transform(dfz), index=dfz.index)\n",
    "drz = pd.DataFrame(pca.inverse_transform(rd).values, index=dfz.index, columns=dfz.columns)"
   ]
  },
  {
   "cell_type": "code",
   "execution_count": 146,
   "metadata": {},
   "outputs": [
    {
     "data": {
      "text/html": [
       "<div>\n",
       "<style scoped>\n",
       "    .dataframe tbody tr th:only-of-type {\n",
       "        vertical-align: middle;\n",
       "    }\n",
       "\n",
       "    .dataframe tbody tr th {\n",
       "        vertical-align: top;\n",
       "    }\n",
       "\n",
       "    .dataframe thead th {\n",
       "        text-align: right;\n",
       "    }\n",
       "</style>\n",
       "<table border=\"1\" class=\"dataframe\">\n",
       "  <thead>\n",
       "    <tr style=\"text-align: right;\">\n",
       "      <th></th>\n",
       "      <th>cantidad</th>\n",
       "      <th>valorprestacionclp</th>\n",
       "      <th>valorprestacionuf</th>\n",
       "      <th>costounitarioclp</th>\n",
       "      <th>valorreclamadoclp</th>\n",
       "      <th>valorpagouf</th>\n",
       "      <th>valorpagoclp</th>\n",
       "      <th>fonasa</th>\n",
       "      <th>clasif_psicologia</th>\n",
       "      <th>clasif_psicopedagogia</th>\n",
       "      <th>clasif_psiquiatria</th>\n",
       "      <th>day_sin</th>\n",
       "      <th>day_cos</th>\n",
       "      <th>month_sin</th>\n",
       "      <th>month_cos</th>\n",
       "      <th>titular</th>\n",
       "    </tr>\n",
       "    <tr>\n",
       "      <th>uniqueid</th>\n",
       "      <th></th>\n",
       "      <th></th>\n",
       "      <th></th>\n",
       "      <th></th>\n",
       "      <th></th>\n",
       "      <th></th>\n",
       "      <th></th>\n",
       "      <th></th>\n",
       "      <th></th>\n",
       "      <th></th>\n",
       "      <th></th>\n",
       "      <th></th>\n",
       "      <th></th>\n",
       "      <th></th>\n",
       "      <th></th>\n",
       "      <th></th>\n",
       "    </tr>\n",
       "  </thead>\n",
       "  <tbody>\n",
       "    <tr>\n",
       "      <th>id_1549</th>\n",
       "      <td>4.326399</td>\n",
       "      <td>3.300229</td>\n",
       "      <td>3.298561</td>\n",
       "      <td>-0.075156</td>\n",
       "      <td>3.276107</td>\n",
       "      <td>1.286901</td>\n",
       "      <td>1.287786</td>\n",
       "      <td>-0.992805</td>\n",
       "      <td>0.517545</td>\n",
       "      <td>-0.065172</td>\n",
       "      <td>-0.51097</td>\n",
       "      <td>0.852063</td>\n",
       "      <td>-0.795272</td>\n",
       "      <td>-0.083975</td>\n",
       "      <td>-0.074528</td>\n",
       "      <td>-0.974334</td>\n",
       "    </tr>\n",
       "    <tr>\n",
       "      <th>id_7447</th>\n",
       "      <td>-0.207504</td>\n",
       "      <td>-0.804086</td>\n",
       "      <td>-0.804616</td>\n",
       "      <td>-1.132511</td>\n",
       "      <td>-0.823395</td>\n",
       "      <td>-0.504296</td>\n",
       "      <td>-0.503626</td>\n",
       "      <td>1.007247</td>\n",
       "      <td>0.517545</td>\n",
       "      <td>-0.065172</td>\n",
       "      <td>-0.51097</td>\n",
       "      <td>-1.804914</td>\n",
       "      <td>-0.523175</td>\n",
       "      <td>-0.083975</td>\n",
       "      <td>-0.074528</td>\n",
       "      <td>-0.974334</td>\n",
       "    </tr>\n",
       "    <tr>\n",
       "      <th>id_0025</th>\n",
       "      <td>-0.207504</td>\n",
       "      <td>0.407320</td>\n",
       "      <td>0.407408</td>\n",
       "      <td>0.985258</td>\n",
       "      <td>0.219155</td>\n",
       "      <td>-0.006043</td>\n",
       "      <td>-0.006066</td>\n",
       "      <td>-0.992805</td>\n",
       "      <td>0.517545</td>\n",
       "      <td>-0.065172</td>\n",
       "      <td>-0.51097</td>\n",
       "      <td>-0.563357</td>\n",
       "      <td>-1.411894</td>\n",
       "      <td>-0.083975</td>\n",
       "      <td>-0.074528</td>\n",
       "      <td>1.026342</td>\n",
       "    </tr>\n",
       "  </tbody>\n",
       "</table>\n",
       "</div>"
      ],
      "text/plain": [
       "          cantidad  valorprestacionclp  valorprestacionuf  costounitarioclp  \\\n",
       "uniqueid                                                                      \n",
       "id_1549   4.326399            3.300229           3.298561         -0.075156   \n",
       "id_7447  -0.207504           -0.804086          -0.804616         -1.132511   \n",
       "id_0025  -0.207504            0.407320           0.407408          0.985258   \n",
       "\n",
       "          valorreclamadoclp  valorpagouf  valorpagoclp    fonasa  \\\n",
       "uniqueid                                                           \n",
       "id_1549            3.276107     1.286901      1.287786 -0.992805   \n",
       "id_7447           -0.823395    -0.504296     -0.503626  1.007247   \n",
       "id_0025            0.219155    -0.006043     -0.006066 -0.992805   \n",
       "\n",
       "          clasif_psicologia  clasif_psicopedagogia  clasif_psiquiatria  \\\n",
       "uniqueid                                                                 \n",
       "id_1549            0.517545              -0.065172            -0.51097   \n",
       "id_7447            0.517545              -0.065172            -0.51097   \n",
       "id_0025            0.517545              -0.065172            -0.51097   \n",
       "\n",
       "           day_sin   day_cos  month_sin  month_cos   titular  \n",
       "uniqueid                                                      \n",
       "id_1549   0.852063 -0.795272  -0.083975  -0.074528 -0.974334  \n",
       "id_7447  -1.804914 -0.523175  -0.083975  -0.074528 -0.974334  \n",
       "id_0025  -0.563357 -1.411894  -0.083975  -0.074528  1.026342  "
      ]
     },
     "execution_count": 146,
     "metadata": {},
     "output_type": "execute_result"
    }
   ],
   "source": [
    "# datos originales\n",
    "sample = dfz.sample(3)\n",
    "sample"
   ]
  },
  {
   "cell_type": "code",
   "execution_count": 147,
   "metadata": {},
   "outputs": [
    {
     "data": {
      "text/html": [
       "<div>\n",
       "<style scoped>\n",
       "    .dataframe tbody tr th:only-of-type {\n",
       "        vertical-align: middle;\n",
       "    }\n",
       "\n",
       "    .dataframe tbody tr th {\n",
       "        vertical-align: top;\n",
       "    }\n",
       "\n",
       "    .dataframe thead th {\n",
       "        text-align: right;\n",
       "    }\n",
       "</style>\n",
       "<table border=\"1\" class=\"dataframe\">\n",
       "  <thead>\n",
       "    <tr style=\"text-align: right;\">\n",
       "      <th></th>\n",
       "      <th>0</th>\n",
       "      <th>1</th>\n",
       "      <th>2</th>\n",
       "      <th>3</th>\n",
       "      <th>4</th>\n",
       "      <th>5</th>\n",
       "      <th>6</th>\n",
       "      <th>7</th>\n",
       "      <th>8</th>\n",
       "    </tr>\n",
       "    <tr>\n",
       "      <th>uniqueid</th>\n",
       "      <th></th>\n",
       "      <th></th>\n",
       "      <th></th>\n",
       "      <th></th>\n",
       "      <th></th>\n",
       "      <th></th>\n",
       "      <th></th>\n",
       "      <th></th>\n",
       "      <th></th>\n",
       "    </tr>\n",
       "  </thead>\n",
       "  <tbody>\n",
       "    <tr>\n",
       "      <th>id_1549</th>\n",
       "      <td>2.491869</td>\n",
       "      <td>-2.276437</td>\n",
       "      <td>-0.285850</td>\n",
       "      <td>-0.193727</td>\n",
       "      <td>-0.350439</td>\n",
       "      <td>0.797288</td>\n",
       "      <td>-0.543548</td>\n",
       "      <td>1.070485</td>\n",
       "      <td>4.088281</td>\n",
       "    </tr>\n",
       "    <tr>\n",
       "      <th>id_7447</th>\n",
       "      <td>-0.878698</td>\n",
       "      <td>-0.375635</td>\n",
       "      <td>0.030281</td>\n",
       "      <td>-1.446328</td>\n",
       "      <td>1.117837</td>\n",
       "      <td>0.045852</td>\n",
       "      <td>-0.880844</td>\n",
       "      <td>-0.726658</td>\n",
       "      <td>0.112912</td>\n",
       "    </tr>\n",
       "    <tr>\n",
       "      <th>id_0025</th>\n",
       "      <td>0.196124</td>\n",
       "      <td>0.006303</td>\n",
       "      <td>-0.107053</td>\n",
       "      <td>-1.288172</td>\n",
       "      <td>-1.366676</td>\n",
       "      <td>0.393323</td>\n",
       "      <td>0.888584</td>\n",
       "      <td>0.204153</td>\n",
       "      <td>-0.321705</td>\n",
       "    </tr>\n",
       "  </tbody>\n",
       "</table>\n",
       "</div>"
      ],
      "text/plain": [
       "                 0         1         2         3         4         5  \\\n",
       "uniqueid                                                               \n",
       "id_1549   2.491869 -2.276437 -0.285850 -0.193727 -0.350439  0.797288   \n",
       "id_7447  -0.878698 -0.375635  0.030281 -1.446328  1.117837  0.045852   \n",
       "id_0025   0.196124  0.006303 -0.107053 -1.288172 -1.366676  0.393323   \n",
       "\n",
       "                 6         7         8  \n",
       "uniqueid                                \n",
       "id_1549  -0.543548  1.070485  4.088281  \n",
       "id_7447  -0.880844 -0.726658  0.112912  \n",
       "id_0025   0.888584  0.204153 -0.321705  "
      ]
     },
     "execution_count": 147,
     "metadata": {},
     "output_type": "execute_result"
    }
   ],
   "source": [
    "# datos dimension reducida\n",
    "rd.loc[sample.index, :]"
   ]
  },
  {
   "cell_type": "code",
   "execution_count": 148,
   "metadata": {},
   "outputs": [
    {
     "data": {
      "text/html": [
       "<div>\n",
       "<style scoped>\n",
       "    .dataframe tbody tr th:only-of-type {\n",
       "        vertical-align: middle;\n",
       "    }\n",
       "\n",
       "    .dataframe tbody tr th {\n",
       "        vertical-align: top;\n",
       "    }\n",
       "\n",
       "    .dataframe thead th {\n",
       "        text-align: right;\n",
       "    }\n",
       "</style>\n",
       "<table border=\"1\" class=\"dataframe\">\n",
       "  <thead>\n",
       "    <tr style=\"text-align: right;\">\n",
       "      <th></th>\n",
       "      <th>cantidad</th>\n",
       "      <th>valorprestacionclp</th>\n",
       "      <th>valorprestacionuf</th>\n",
       "      <th>costounitarioclp</th>\n",
       "      <th>valorreclamadoclp</th>\n",
       "      <th>valorpagouf</th>\n",
       "      <th>valorpagoclp</th>\n",
       "      <th>fonasa</th>\n",
       "      <th>clasif_psicologia</th>\n",
       "      <th>clasif_psicopedagogia</th>\n",
       "      <th>clasif_psiquiatria</th>\n",
       "      <th>day_sin</th>\n",
       "      <th>day_cos</th>\n",
       "      <th>month_sin</th>\n",
       "      <th>month_cos</th>\n",
       "      <th>titular</th>\n",
       "    </tr>\n",
       "    <tr>\n",
       "      <th>uniqueid</th>\n",
       "      <th></th>\n",
       "      <th></th>\n",
       "      <th></th>\n",
       "      <th></th>\n",
       "      <th></th>\n",
       "      <th></th>\n",
       "      <th></th>\n",
       "      <th></th>\n",
       "      <th></th>\n",
       "      <th></th>\n",
       "      <th></th>\n",
       "      <th></th>\n",
       "      <th></th>\n",
       "      <th></th>\n",
       "      <th></th>\n",
       "      <th></th>\n",
       "    </tr>\n",
       "  </thead>\n",
       "  <tbody>\n",
       "    <tr>\n",
       "      <th>id_1549</th>\n",
       "      <td>4.509105</td>\n",
       "      <td>3.405904</td>\n",
       "      <td>3.405871</td>\n",
       "      <td>-0.177209</td>\n",
       "      <td>2.381911</td>\n",
       "      <td>1.524098</td>\n",
       "      <td>1.524028</td>\n",
       "      <td>-0.962721</td>\n",
       "      <td>0.341282</td>\n",
       "      <td>-0.112838</td>\n",
       "      <td>-0.325757</td>\n",
       "      <td>0.840612</td>\n",
       "      <td>-0.766289</td>\n",
       "      <td>-0.087337</td>\n",
       "      <td>-0.068719</td>\n",
       "      <td>-0.991513</td>\n",
       "    </tr>\n",
       "    <tr>\n",
       "      <th>id_7447</th>\n",
       "      <td>-0.239613</td>\n",
       "      <td>-0.813716</td>\n",
       "      <td>-0.814574</td>\n",
       "      <td>-0.974267</td>\n",
       "      <td>-0.628858</td>\n",
       "      <td>-0.586682</td>\n",
       "      <td>-0.585961</td>\n",
       "      <td>1.050791</td>\n",
       "      <td>0.614233</td>\n",
       "      <td>-0.036094</td>\n",
       "      <td>-0.613037</td>\n",
       "      <td>-1.799592</td>\n",
       "      <td>-0.535340</td>\n",
       "      <td>-0.078569</td>\n",
       "      <td>-0.080650</td>\n",
       "      <td>-0.966697</td>\n",
       "    </tr>\n",
       "    <tr>\n",
       "      <th>id_0025</th>\n",
       "      <td>-0.018080</td>\n",
       "      <td>0.236980</td>\n",
       "      <td>0.236162</td>\n",
       "      <td>0.355596</td>\n",
       "      <td>-0.008489</td>\n",
       "      <td>0.234320</td>\n",
       "      <td>0.235035</td>\n",
       "      <td>-1.266233</td>\n",
       "      <td>0.152800</td>\n",
       "      <td>-0.186970</td>\n",
       "      <td>-0.123995</td>\n",
       "      <td>-0.581800</td>\n",
       "      <td>-1.371166</td>\n",
       "      <td>-0.081840</td>\n",
       "      <td>-0.074810</td>\n",
       "      <td>0.999536</td>\n",
       "    </tr>\n",
       "  </tbody>\n",
       "</table>\n",
       "</div>"
      ],
      "text/plain": [
       "          cantidad  valorprestacionclp  valorprestacionuf  costounitarioclp  \\\n",
       "uniqueid                                                                      \n",
       "id_1549   4.509105            3.405904           3.405871         -0.177209   \n",
       "id_7447  -0.239613           -0.813716          -0.814574         -0.974267   \n",
       "id_0025  -0.018080            0.236980           0.236162          0.355596   \n",
       "\n",
       "          valorreclamadoclp  valorpagouf  valorpagoclp    fonasa  \\\n",
       "uniqueid                                                           \n",
       "id_1549            2.381911     1.524098      1.524028 -0.962721   \n",
       "id_7447           -0.628858    -0.586682     -0.585961  1.050791   \n",
       "id_0025           -0.008489     0.234320      0.235035 -1.266233   \n",
       "\n",
       "          clasif_psicologia  clasif_psicopedagogia  clasif_psiquiatria  \\\n",
       "uniqueid                                                                 \n",
       "id_1549            0.341282              -0.112838           -0.325757   \n",
       "id_7447            0.614233              -0.036094           -0.613037   \n",
       "id_0025            0.152800              -0.186970           -0.123995   \n",
       "\n",
       "           day_sin   day_cos  month_sin  month_cos   titular  \n",
       "uniqueid                                                      \n",
       "id_1549   0.840612 -0.766289  -0.087337  -0.068719 -0.991513  \n",
       "id_7447  -1.799592 -0.535340  -0.078569  -0.080650 -0.966697  \n",
       "id_0025  -0.581800 -1.371166  -0.081840  -0.074810  0.999536  "
      ]
     },
     "execution_count": 148,
     "metadata": {},
     "output_type": "execute_result"
    }
   ],
   "source": [
    "# datos reconstruidos\n",
    "drz.loc[sample.index, :]"
   ]
  },
  {
   "cell_type": "markdown",
   "metadata": {},
   "source": [
    "MEDICION ERROR DE RECONSTRUCCION"
   ]
  },
  {
   "cell_type": "markdown",
   "metadata": {},
   "source": [
    "[DISTANCIA EUCLIDEANA] D^2 = (a2 - a1)^2 + (b2 - b1)^2 + (c2 - c1)^2"
   ]
  },
  {
   "cell_type": "code",
   "execution_count": 149,
   "metadata": {},
   "outputs": [
    {
     "data": {
      "text/html": [
       "<div>\n",
       "<style scoped>\n",
       "    .dataframe tbody tr th:only-of-type {\n",
       "        vertical-align: middle;\n",
       "    }\n",
       "\n",
       "    .dataframe tbody tr th {\n",
       "        vertical-align: top;\n",
       "    }\n",
       "\n",
       "    .dataframe thead th {\n",
       "        text-align: right;\n",
       "    }\n",
       "</style>\n",
       "<table border=\"1\" class=\"dataframe\">\n",
       "  <thead>\n",
       "    <tr style=\"text-align: right;\">\n",
       "      <th></th>\n",
       "      <th>anomalyscore</th>\n",
       "    </tr>\n",
       "    <tr>\n",
       "      <th>uniqueid</th>\n",
       "      <th></th>\n",
       "    </tr>\n",
       "  </thead>\n",
       "  <tbody>\n",
       "    <tr>\n",
       "      <th>id_1549</th>\n",
       "      <td>1.023718</td>\n",
       "    </tr>\n",
       "    <tr>\n",
       "      <th>id_7447</th>\n",
       "      <td>0.316993</td>\n",
       "    </tr>\n",
       "    <tr>\n",
       "      <th>id_0025</th>\n",
       "      <td>1.016626</td>\n",
       "    </tr>\n",
       "  </tbody>\n",
       "</table>\n",
       "</div>"
      ],
      "text/plain": [
       "          anomalyscore\n",
       "uniqueid              \n",
       "id_1549       1.023718\n",
       "id_7447       0.316993\n",
       "id_0025       1.016626"
      ]
     },
     "execution_count": 149,
     "metadata": {},
     "output_type": "execute_result"
    }
   ],
   "source": [
    "# calcular el error de reconstruccion entre dfz (original) y drz (reconstruido)\n",
    "anomalyscore = np.sqrt(((drz-dfz) ** 2).sum(axis=1)).to_frame().rename(columns={0:'anomalyscore'})\n",
    "anomalyscore.loc[sample.index, :]"
   ]
  },
  {
   "cell_type": "markdown",
   "metadata": {},
   "source": [
    "CONCATENACION DE RESULTADOS"
   ]
  },
  {
   "cell_type": "code",
   "execution_count": 150,
   "metadata": {},
   "outputs": [],
   "source": [
    "result = pd.concat([anomalyscore, infoframe, dataframe], axis=1)"
   ]
  },
  {
   "cell_type": "markdown",
   "metadata": {},
   "source": [
    "### VISUALIZACION RESULTADOS"
   ]
  },
  {
   "cell_type": "code",
   "execution_count": 151,
   "metadata": {},
   "outputs": [
    {
     "data": {
      "text/plain": [
       "Index(['anomalyscore', 'ruttitular', 'rutbeneficiario', 'numerosolicitud',\n",
       "       'idgrupoprestacion', 'clasificaciongrupo', 'idsubgrupoprestacion',\n",
       "       'clasificacionsubgrupo', 'idaperturaprestacion',\n",
       "       'clasificacionapertura', 'fechaprestacion', 'fecharecepcionliquidacion',\n",
       "       'prevision', 'rutprestador', 'nombreprestador', 'cantidad',\n",
       "       'valorprestacionclp', 'valorprestacionuf', 'costounitarioclp',\n",
       "       'valorreclamadoclp', 'valorpagouf', 'valorpagoclp', 'fonasa',\n",
       "       'clasif_psicologia', 'clasif_psicopedagogia', 'clasif_psiquiatria',\n",
       "       'slaliquidacion', 'day_sin', 'day_cos', 'month_sin', 'month_cos',\n",
       "       'titular', 'registro'],\n",
       "      dtype='object')"
      ]
     },
     "execution_count": 151,
     "metadata": {},
     "output_type": "execute_result"
    }
   ],
   "source": [
    "dft.columns"
   ]
  },
  {
   "cell_type": "code",
   "execution_count": null,
   "metadata": {},
   "outputs": [],
   "source": [
    "dft = result.copy()\n",
    "dft['registro'] = np.arange(dft.shape[0])\n",
    "\n",
    "fig = px.line(dft, x='registro', y='anomalyscore', hover_data=['ruttitular', 'numerosolicitud', 'clasificaciongrupo', 'clasificacionsubgrupo', 'clasificacionapertura', 'fechaprestacion', 'fecharecepcionliquidacion', 'rutprestador', 'nombreprestador', 'cantidad', 'valorprestacionclp', 'valorpagoclp', 'costounitarioclp'])\n",
    "fig.show()"
   ]
  },
  {
   "cell_type": "code",
   "execution_count": null,
   "metadata": {},
   "outputs": [],
   "source": []
  }
 ],
 "metadata": {
  "kernelspec": {
   "display_name": "vc",
   "language": "python",
   "name": "python3"
  },
  "language_info": {
   "codemirror_mode": {
    "name": "ipython",
    "version": 3
   },
   "file_extension": ".py",
   "mimetype": "text/x-python",
   "name": "python",
   "nbconvert_exporter": "python",
   "pygments_lexer": "ipython3",
   "version": "3.12.3"
  }
 },
 "nbformat": 4,
 "nbformat_minor": 2
}
